{
 "cells": [
  {
   "cell_type": "code",
   "execution_count": 1,
   "id": "ceb6de17-5dad-43f3-b4b1-f2ecc65013e6",
   "metadata": {},
   "outputs": [
    {
     "name": "stdout",
     "output_type": "stream",
     "text": [
      "/Users/anjanaparepalli/Desktop/3rdYearMaterial/Semester V/2. Fundamentals of Machine Learning/Laboratory/Mini Project/.venv/bin/python\n"
     ]
    }
   ],
   "source": [
    "import sys\n",
    "print(sys.executable)"
   ]
  },
  {
   "cell_type": "code",
   "execution_count": 2,
   "id": "b0b06193-b48c-482d-9be3-b8f9b0710001",
   "metadata": {},
   "outputs": [
    {
     "name": "stdout",
     "output_type": "stream",
     "text": [
      "Python 3.11.9\n"
     ]
    }
   ],
   "source": [
    "!python3 --version"
   ]
  },
  {
   "cell_type": "code",
   "execution_count": 3,
   "id": "62161052-9cd9-4420-b8b3-f017bd30a103",
   "metadata": {},
   "outputs": [
    {
     "name": "stderr",
     "output_type": "stream",
     "text": [
      "2025-10-25 21:14:18.350436: I tensorflow/core/platform/cpu_feature_guard.cc:210] This TensorFlow binary is optimized to use available CPU instructions in performance-critical operations.\n",
      "To enable the following instructions: AVX2 FMA, in other operations, rebuild TensorFlow with the appropriate compiler flags.\n"
     ]
    }
   ],
   "source": [
    "import pandas as pd\n",
    "import numpy as np\n",
    "import matplotlib.pyplot as plt\n",
    "import seaborn as sns\n",
    "\n",
    "from sklearn.preprocessing import StandardScaler\n",
    "from sklearn.model_selection import train_test_split\n",
    "\n",
    "import keras_tuner as kt\n",
    "from tensorflow.keras.models import Model\n",
    "from tensorflow.keras.layers import Input, Dense\n",
    "from tensorflow.keras.optimizers import Adam\n",
    "\n",
    "from sklearn.metrics import classification_report, confusion_matrix\n",
    "from sklearn.metrics import roc_curve"
   ]
  },
  {
   "cell_type": "code",
   "execution_count": 4,
   "id": "567ed9ba-fbb4-4319-91cd-c370a93a5b60",
   "metadata": {
    "scrolled": true
   },
   "outputs": [
    {
     "name": "stdout",
     "output_type": "stream",
     "text": [
      "Columns of cleaned dataset...\n",
      "\n",
      "<class 'pandas.core.frame.DataFrame'>\n",
      "RangeIndex: 54774 entries, 0 to 54773\n",
      "Data columns (total 15 columns):\n",
      " #   Column                  Non-Null Count  Dtype  \n",
      "---  ------                  --------------  -----  \n",
      " 0   frame.len               54774 non-null  float64\n",
      " 1   wlan.duration           54774 non-null  float64\n",
      " 2   wlan.frag               54774 non-null  float64\n",
      " 3   llc.type                54774 non-null  float64\n",
      " 4   ip.hdr_len              54774 non-null  float64\n",
      " 5   ip.len                  54774 non-null  float64\n",
      " 6   ip.ttl                  54774 non-null  float64\n",
      " 7   ip.proto                54774 non-null  float64\n",
      " 8   tcp.hdr_len             54774 non-null  float64\n",
      " 9   tcp.flags               54774 non-null  float64\n",
      " 10  tcp.window_size         54774 non-null  float64\n",
      " 11  udp.length              54774 non-null  float64\n",
      " 12  data.len                54774 non-null  float64\n",
      " 13  time_since_last_packet  54774 non-null  float64\n",
      " 14  class                   54774 non-null  object \n",
      "dtypes: float64(14), object(1)\n",
      "memory usage: 6.3+ MB\n"
     ]
    }
   ],
   "source": [
    "# Loading the cleaned dataset of UAV network data\n",
    "cleaned_uav_network_df = pd.read_csv(\"Cleaned_UAV_Network_Dataset.csv\")\n",
    "\n",
    "print(\"Columns of cleaned dataset...\\n\")\n",
    "cleaned_uav_network_df.info()"
   ]
  },
  {
   "cell_type": "code",
   "execution_count": 5,
   "id": "eb3f3902-33c8-4d6e-bfca-b769d9c1b7be",
   "metadata": {
    "scrolled": true
   },
   "outputs": [
    {
     "name": "stdout",
     "output_type": "stream",
     "text": [
      "Statistical summary of cleaned dataset...\n",
      "\n"
     ]
    },
    {
     "data": {
      "text/html": [
       "<div>\n",
       "<style scoped>\n",
       "    .dataframe tbody tr th:only-of-type {\n",
       "        vertical-align: middle;\n",
       "    }\n",
       "\n",
       "    .dataframe tbody tr th {\n",
       "        vertical-align: top;\n",
       "    }\n",
       "\n",
       "    .dataframe thead th {\n",
       "        text-align: right;\n",
       "    }\n",
       "</style>\n",
       "<table border=\"1\" class=\"dataframe\">\n",
       "  <thead>\n",
       "    <tr style=\"text-align: right;\">\n",
       "      <th></th>\n",
       "      <th>frame.len</th>\n",
       "      <th>wlan.duration</th>\n",
       "      <th>wlan.frag</th>\n",
       "      <th>llc.type</th>\n",
       "      <th>ip.hdr_len</th>\n",
       "      <th>ip.len</th>\n",
       "      <th>ip.ttl</th>\n",
       "      <th>ip.proto</th>\n",
       "      <th>tcp.hdr_len</th>\n",
       "      <th>tcp.flags</th>\n",
       "      <th>tcp.window_size</th>\n",
       "      <th>udp.length</th>\n",
       "      <th>data.len</th>\n",
       "      <th>time_since_last_packet</th>\n",
       "    </tr>\n",
       "  </thead>\n",
       "  <tbody>\n",
       "    <tr>\n",
       "      <th>count</th>\n",
       "      <td>54774.000000</td>\n",
       "      <td>54774.00000</td>\n",
       "      <td>54774.000000</td>\n",
       "      <td>54774.000000</td>\n",
       "      <td>54774.000000</td>\n",
       "      <td>5.477400e+04</td>\n",
       "      <td>54774.000000</td>\n",
       "      <td>54774.000000</td>\n",
       "      <td>54774.000000</td>\n",
       "      <td>54774.000000</td>\n",
       "      <td>54774.000000</td>\n",
       "      <td>54774.000000</td>\n",
       "      <td>54774.000000</td>\n",
       "      <td>54774.000000</td>\n",
       "    </tr>\n",
       "    <tr>\n",
       "      <th>mean</th>\n",
       "      <td>69.233487</td>\n",
       "      <td>115.52346</td>\n",
       "      <td>2300.825319</td>\n",
       "      <td>357.358802</td>\n",
       "      <td>25.864388</td>\n",
       "      <td>3.766453e+08</td>\n",
       "      <td>47.773414</td>\n",
       "      <td>6.149734</td>\n",
       "      <td>1.659648</td>\n",
       "      <td>0.276785</td>\n",
       "      <td>2555.670430</td>\n",
       "      <td>19.052415</td>\n",
       "      <td>23.567039</td>\n",
       "      <td>0.105798</td>\n",
       "    </tr>\n",
       "    <tr>\n",
       "      <th>std</th>\n",
       "      <td>112.519518</td>\n",
       "      <td>152.94823</td>\n",
       "      <td>6117.247607</td>\n",
       "      <td>757.783524</td>\n",
       "      <td>51.818721</td>\n",
       "      <td>9.660565e+08</td>\n",
       "      <td>92.894270</td>\n",
       "      <td>39.766253</td>\n",
       "      <td>7.436355</td>\n",
       "      <td>5.545356</td>\n",
       "      <td>12540.535924</td>\n",
       "      <td>54.753226</td>\n",
       "      <td>54.985718</td>\n",
       "      <td>0.590235</td>\n",
       "    </tr>\n",
       "    <tr>\n",
       "      <th>min</th>\n",
       "      <td>-107.000000</td>\n",
       "      <td>-100.00000</td>\n",
       "      <td>-50.000000</td>\n",
       "      <td>-1.000000</td>\n",
       "      <td>-200.000000</td>\n",
       "      <td>-2.000000e+02</td>\n",
       "      <td>0.000000</td>\n",
       "      <td>-4783.000000</td>\n",
       "      <td>-43.750186</td>\n",
       "      <td>-68.801801</td>\n",
       "      <td>-176.275862</td>\n",
       "      <td>0.000000</td>\n",
       "      <td>0.000000</td>\n",
       "      <td>0.000000</td>\n",
       "    </tr>\n",
       "    <tr>\n",
       "      <th>25%</th>\n",
       "      <td>26.000000</td>\n",
       "      <td>0.00000</td>\n",
       "      <td>0.000000</td>\n",
       "      <td>0.000000</td>\n",
       "      <td>0.000000</td>\n",
       "      <td>0.000000e+00</td>\n",
       "      <td>0.000000</td>\n",
       "      <td>0.000000</td>\n",
       "      <td>0.000000</td>\n",
       "      <td>0.000000</td>\n",
       "      <td>0.000000</td>\n",
       "      <td>0.000000</td>\n",
       "      <td>0.000000</td>\n",
       "      <td>0.002721</td>\n",
       "    </tr>\n",
       "    <tr>\n",
       "      <th>50%</th>\n",
       "      <td>26.000000</td>\n",
       "      <td>44.00000</td>\n",
       "      <td>0.000000</td>\n",
       "      <td>8.000000</td>\n",
       "      <td>0.000000</td>\n",
       "      <td>0.000000e+00</td>\n",
       "      <td>0.000000</td>\n",
       "      <td>0.000000</td>\n",
       "      <td>0.000000</td>\n",
       "      <td>0.000000</td>\n",
       "      <td>0.000000</td>\n",
       "      <td>0.000000</td>\n",
       "      <td>0.000000</td>\n",
       "      <td>0.003374</td>\n",
       "    </tr>\n",
       "    <tr>\n",
       "      <th>75%</th>\n",
       "      <td>98.000000</td>\n",
       "      <td>314.00000</td>\n",
       "      <td>41.750000</td>\n",
       "      <td>66.000000</td>\n",
       "      <td>20.000000</td>\n",
       "      <td>1.950000e+02</td>\n",
       "      <td>36.000000</td>\n",
       "      <td>0.000000</td>\n",
       "      <td>0.000000</td>\n",
       "      <td>0.000000</td>\n",
       "      <td>0.000000</td>\n",
       "      <td>0.000000</td>\n",
       "      <td>20.000000</td>\n",
       "      <td>0.005190</td>\n",
       "    </tr>\n",
       "    <tr>\n",
       "      <th>max</th>\n",
       "      <td>1569.000000</td>\n",
       "      <td>320.00000</td>\n",
       "      <td>21356.000000</td>\n",
       "      <td>2054.000000</td>\n",
       "      <td>305.000000</td>\n",
       "      <td>4.294753e+09</td>\n",
       "      <td>372.000000</td>\n",
       "      <td>321.950000</td>\n",
       "      <td>62.783226</td>\n",
       "      <td>75.309914</td>\n",
       "      <td>64240.000000</td>\n",
       "      <td>282.000000</td>\n",
       "      <td>192.000000</td>\n",
       "      <td>28.844855</td>\n",
       "    </tr>\n",
       "  </tbody>\n",
       "</table>\n",
       "</div>"
      ],
      "text/plain": [
       "          frame.len  wlan.duration     wlan.frag      llc.type    ip.hdr_len  \\\n",
       "count  54774.000000    54774.00000  54774.000000  54774.000000  54774.000000   \n",
       "mean      69.233487      115.52346   2300.825319    357.358802     25.864388   \n",
       "std      112.519518      152.94823   6117.247607    757.783524     51.818721   \n",
       "min     -107.000000     -100.00000    -50.000000     -1.000000   -200.000000   \n",
       "25%       26.000000        0.00000      0.000000      0.000000      0.000000   \n",
       "50%       26.000000       44.00000      0.000000      8.000000      0.000000   \n",
       "75%       98.000000      314.00000     41.750000     66.000000     20.000000   \n",
       "max     1569.000000      320.00000  21356.000000   2054.000000    305.000000   \n",
       "\n",
       "             ip.len        ip.ttl      ip.proto   tcp.hdr_len     tcp.flags  \\\n",
       "count  5.477400e+04  54774.000000  54774.000000  54774.000000  54774.000000   \n",
       "mean   3.766453e+08     47.773414      6.149734      1.659648      0.276785   \n",
       "std    9.660565e+08     92.894270     39.766253      7.436355      5.545356   \n",
       "min   -2.000000e+02      0.000000  -4783.000000    -43.750186    -68.801801   \n",
       "25%    0.000000e+00      0.000000      0.000000      0.000000      0.000000   \n",
       "50%    0.000000e+00      0.000000      0.000000      0.000000      0.000000   \n",
       "75%    1.950000e+02     36.000000      0.000000      0.000000      0.000000   \n",
       "max    4.294753e+09    372.000000    321.950000     62.783226     75.309914   \n",
       "\n",
       "       tcp.window_size    udp.length      data.len  time_since_last_packet  \n",
       "count     54774.000000  54774.000000  54774.000000            54774.000000  \n",
       "mean       2555.670430     19.052415     23.567039                0.105798  \n",
       "std       12540.535924     54.753226     54.985718                0.590235  \n",
       "min        -176.275862      0.000000      0.000000                0.000000  \n",
       "25%           0.000000      0.000000      0.000000                0.002721  \n",
       "50%           0.000000      0.000000      0.000000                0.003374  \n",
       "75%           0.000000      0.000000     20.000000                0.005190  \n",
       "max       64240.000000    282.000000    192.000000               28.844855  "
      ]
     },
     "execution_count": 5,
     "metadata": {},
     "output_type": "execute_result"
    }
   ],
   "source": [
    "print(\"Statistical summary of cleaned dataset...\\n\")\n",
    "cleaned_uav_network_df.describe()"
   ]
  },
  {
   "cell_type": "code",
   "execution_count": 6,
   "id": "53599ff3-39ce-4715-bf98-66fe673e0ff6",
   "metadata": {
    "scrolled": true
   },
   "outputs": [
    {
     "data": {
      "text/html": [
       "<div>\n",
       "<style scoped>\n",
       "    .dataframe tbody tr th:only-of-type {\n",
       "        vertical-align: middle;\n",
       "    }\n",
       "\n",
       "    .dataframe tbody tr th {\n",
       "        vertical-align: top;\n",
       "    }\n",
       "\n",
       "    .dataframe thead th {\n",
       "        text-align: right;\n",
       "    }\n",
       "</style>\n",
       "<table border=\"1\" class=\"dataframe\">\n",
       "  <thead>\n",
       "    <tr style=\"text-align: right;\">\n",
       "      <th></th>\n",
       "      <th>frame.len</th>\n",
       "      <th>wlan.duration</th>\n",
       "      <th>wlan.frag</th>\n",
       "      <th>llc.type</th>\n",
       "      <th>ip.hdr_len</th>\n",
       "      <th>ip.len</th>\n",
       "      <th>ip.ttl</th>\n",
       "      <th>ip.proto</th>\n",
       "      <th>tcp.hdr_len</th>\n",
       "      <th>tcp.flags</th>\n",
       "      <th>tcp.window_size</th>\n",
       "      <th>udp.length</th>\n",
       "      <th>data.len</th>\n",
       "      <th>time_since_last_packet</th>\n",
       "      <th>class</th>\n",
       "    </tr>\n",
       "  </thead>\n",
       "  <tbody>\n",
       "    <tr>\n",
       "      <th>54769</th>\n",
       "      <td>45.0</td>\n",
       "      <td>0.0</td>\n",
       "      <td>0.0</td>\n",
       "      <td>0.0</td>\n",
       "      <td>71.0</td>\n",
       "      <td>74.0</td>\n",
       "      <td>58.0</td>\n",
       "      <td>311.97</td>\n",
       "      <td>58.075944</td>\n",
       "      <td>48.138578</td>\n",
       "      <td>-59.598106</td>\n",
       "      <td>0.0</td>\n",
       "      <td>0.0</td>\n",
       "      <td>0.003374</td>\n",
       "      <td>attack</td>\n",
       "    </tr>\n",
       "    <tr>\n",
       "      <th>54770</th>\n",
       "      <td>45.0</td>\n",
       "      <td>0.0</td>\n",
       "      <td>0.0</td>\n",
       "      <td>0.0</td>\n",
       "      <td>71.0</td>\n",
       "      <td>74.0</td>\n",
       "      <td>57.0</td>\n",
       "      <td>311.88</td>\n",
       "      <td>57.939034</td>\n",
       "      <td>48.275077</td>\n",
       "      <td>-61.352988</td>\n",
       "      <td>0.0</td>\n",
       "      <td>0.0</td>\n",
       "      <td>0.003374</td>\n",
       "      <td>attack</td>\n",
       "    </tr>\n",
       "    <tr>\n",
       "      <th>54771</th>\n",
       "      <td>45.0</td>\n",
       "      <td>0.0</td>\n",
       "      <td>0.0</td>\n",
       "      <td>0.0</td>\n",
       "      <td>71.0</td>\n",
       "      <td>74.0</td>\n",
       "      <td>57.0</td>\n",
       "      <td>311.86</td>\n",
       "      <td>57.824911</td>\n",
       "      <td>48.446966</td>\n",
       "      <td>-62.564276</td>\n",
       "      <td>0.0</td>\n",
       "      <td>0.0</td>\n",
       "      <td>0.003374</td>\n",
       "      <td>attack</td>\n",
       "    </tr>\n",
       "    <tr>\n",
       "      <th>54772</th>\n",
       "      <td>46.0</td>\n",
       "      <td>0.0</td>\n",
       "      <td>0.0</td>\n",
       "      <td>0.0</td>\n",
       "      <td>71.0</td>\n",
       "      <td>74.0</td>\n",
       "      <td>57.0</td>\n",
       "      <td>311.93</td>\n",
       "      <td>57.733356</td>\n",
       "      <td>48.479274</td>\n",
       "      <td>-63.347861</td>\n",
       "      <td>0.0</td>\n",
       "      <td>0.0</td>\n",
       "      <td>0.003374</td>\n",
       "      <td>attack</td>\n",
       "    </tr>\n",
       "    <tr>\n",
       "      <th>54773</th>\n",
       "      <td>51.0</td>\n",
       "      <td>1.0</td>\n",
       "      <td>0.0</td>\n",
       "      <td>0.0</td>\n",
       "      <td>70.0</td>\n",
       "      <td>73.0</td>\n",
       "      <td>57.0</td>\n",
       "      <td>311.89</td>\n",
       "      <td>57.513146</td>\n",
       "      <td>47.816084</td>\n",
       "      <td>-62.818343</td>\n",
       "      <td>0.0</td>\n",
       "      <td>0.0</td>\n",
       "      <td>0.003374</td>\n",
       "      <td>attack</td>\n",
       "    </tr>\n",
       "  </tbody>\n",
       "</table>\n",
       "</div>"
      ],
      "text/plain": [
       "       frame.len  wlan.duration  wlan.frag  llc.type  ip.hdr_len  ip.len  \\\n",
       "54769       45.0            0.0        0.0       0.0        71.0    74.0   \n",
       "54770       45.0            0.0        0.0       0.0        71.0    74.0   \n",
       "54771       45.0            0.0        0.0       0.0        71.0    74.0   \n",
       "54772       46.0            0.0        0.0       0.0        71.0    74.0   \n",
       "54773       51.0            1.0        0.0       0.0        70.0    73.0   \n",
       "\n",
       "       ip.ttl  ip.proto  tcp.hdr_len  tcp.flags  tcp.window_size  udp.length  \\\n",
       "54769    58.0    311.97    58.075944  48.138578       -59.598106         0.0   \n",
       "54770    57.0    311.88    57.939034  48.275077       -61.352988         0.0   \n",
       "54771    57.0    311.86    57.824911  48.446966       -62.564276         0.0   \n",
       "54772    57.0    311.93    57.733356  48.479274       -63.347861         0.0   \n",
       "54773    57.0    311.89    57.513146  47.816084       -62.818343         0.0   \n",
       "\n",
       "       data.len  time_since_last_packet   class  \n",
       "54769       0.0                0.003374  attack  \n",
       "54770       0.0                0.003374  attack  \n",
       "54771       0.0                0.003374  attack  \n",
       "54772       0.0                0.003374  attack  \n",
       "54773       0.0                0.003374  attack  "
      ]
     },
     "execution_count": 6,
     "metadata": {},
     "output_type": "execute_result"
    }
   ],
   "source": [
    "cleaned_uav_network_df.tail()"
   ]
  },
  {
   "cell_type": "code",
   "execution_count": 7,
   "id": "e0b5f3a8-ca8f-49ef-b8e4-ad58e26ae917",
   "metadata": {},
   "outputs": [],
   "source": [
    "# Select the features and the prediction target\n",
    "X = cleaned_uav_network_df.drop(columns = [\"class\"])\n",
    "y = cleaned_uav_network_df[\"class\"]\n",
    "\n",
    "# Select the observations where the network is benign\n",
    "X_benign = X[y == \"benign\"]\n",
    "\n",
    "# Scale the features\n",
    "scaler = StandardScaler()\n",
    "X_benign_scaled = scaler.fit_transform(X_benign)\n",
    "X_scaled = scaler.transform(X) # Used for reconstruction testing\n",
    "\n",
    "# Split the benign network data subset into training and validation sets\n",
    "X_train, X_val = train_test_split(X_benign_scaled, test_size = 0.2, random_state = 42)"
   ]
  },
  {
   "cell_type": "code",
   "execution_count": 8,
   "id": "3d05dc02-d348-4393-84dd-17b2269e4be7",
   "metadata": {},
   "outputs": [
    {
     "name": "stdout",
     "output_type": "stream",
     "text": [
      "Reloading Tuner from autoencoder_tuning/uav_network_anomaly_tuning/tuner0.json\n",
      "Best bottleneck dimensionality:  48\n",
      "Best learning rate:  0.001\n"
     ]
    },
    {
     "name": "stderr",
     "output_type": "stream",
     "text": [
      "/Users/anjanaparepalli/Desktop/3rdYearMaterial/Semester V/2. Fundamentals of Machine Learning/Laboratory/Mini Project/.venv/lib/python3.11/site-packages/keras/src/saving/saving_lib.py:797: UserWarning: Skipping variable loading for optimizer 'adam', because it has 2 variables whereas the saved optimizer has 26 variables. \n",
      "  saveable.load_own_variables(weights_store.get(inner_path))\n"
     ]
    },
    {
     "name": "stdout",
     "output_type": "stream",
     "text": [
      "Validation loss of the best model: 0.00008\n"
     ]
    }
   ],
   "source": [
    "EPOCHS = 100\n",
    "BATCH_SIZE = 64\n",
    "\n",
    "# This is a vanilla autoencoder - I chose to use an autoencoder for this project because Shrijani and I used a U-Net autoencoder during \n",
    "# the Honeywell 48-hour hackathon event. I chose the topic of detecting intrusion in UAV networks because it was mentioned in my Honours \n",
    "# course, Advanced Computer Networks (Semester V).\n",
    "def build_autoencoder(hp):\n",
    "    # Tune the bottleneck dimension\n",
    "    bottleneck_dim = hp.Int(\"bottleneck_dim\", min_value = 8, max_value = 64, step = 8)\n",
    "\n",
    "    # Tune the learning rate\n",
    "    learning_rate = hp.Choice(\"learning_rate\", [0.0001, 0.001, 0.005])\n",
    "\n",
    "    input_dim = X_train.shape[1]\n",
    "    input_layer = Input(shape = (input_dim,))\n",
    "\n",
    "    # Encoder\n",
    "    encoded = Dense(64, activation = \"relu\")(input_layer)\n",
    "    encoded = Dense(32, activation = \"relu\")(encoded)\n",
    "    encoded = Dense(bottleneck_dim, activation = \"relu\")(encoded)\n",
    "\n",
    "    # Decoder\n",
    "    decoded = Dense(32, activation = \"relu\")(encoded)\n",
    "    decoded = Dense(64, activation = \"relu\")(decoded)\n",
    "    decoded = Dense(input_dim, activation = \"linear\")(decoded)\n",
    "\n",
    "    # Combine the encoder and decoder blocks into one autoencoder\n",
    "    autoencoder = Model(inputs = input_layer, outputs = decoded)\n",
    "    autoencoder.compile(optimizer = Adam(learning_rate = learning_rate), loss = \"mse\")\n",
    "\n",
    "    return autoencoder\n",
    "\n",
    "# Initialize the Keras tuner\n",
    "tuner = kt.RandomSearch(\n",
    "    build_autoencoder, \n",
    "    objective = \"val_loss\", # This is the same as \"best-validation-loss\" in the MATLAB Coursera course I took \n",
    "    max_trials = 10, # Number of different combinations to try\n",
    "    executions_per_trial = 1, \n",
    "    directory = \"autoencoder_tuning\", \n",
    "    project_name = \"uav_network_anomaly_tuning\"\n",
    ")\n",
    "\n",
    "# Search for the best combination of hyperparameters (randomly, because an exhaustive search is too time-consuming)\n",
    "tuner.search(\n",
    "    X_train, X_train, \n",
    "    epochs = EPOCHS, \n",
    "    batch_size = BATCH_SIZE, \n",
    "    validation_data = (X_val, X_val), \n",
    "    verbose = 1\n",
    ")\n",
    "\n",
    "best_hps = tuner.get_best_hyperparameters(num_trials = 1)[0]\n",
    "print(\"Best bottleneck dimensionality: \", best_hps.get(\"bottleneck_dim\"))\n",
    "print(\"Best learning rate: \", best_hps.get(\"learning_rate\"))\n",
    "\n",
    "# Evaluate on the validation set\n",
    "best_model = tuner.get_best_models(num_models = 1)[0]\n",
    "val_loss = best_model.evaluate(X_val, X_val, verbose = 0)\n",
    "print(\"Validation loss of the best model: {:.5f}\".format(val_loss))"
   ]
  },
  {
   "cell_type": "code",
   "execution_count": 9,
   "id": "d931e8e0-72e8-4492-9711-533a7525ecaf",
   "metadata": {},
   "outputs": [
    {
     "name": "stdout",
     "output_type": "stream",
     "text": [
      "\u001b[1m1712/1712\u001b[0m \u001b[32m━━━━━━━━━━━━━━━━━━━━\u001b[0m\u001b[37m\u001b[0m \u001b[1m1s\u001b[0m 519us/step\n"
     ]
    }
   ],
   "source": [
    "# Predicting whether a given query is benign or an attack\n",
    "\n",
    "# Compute reconstruction errors to detect intrusion\n",
    "X_pred = best_model.predict(X_scaled)\n",
    "mse = np.mean(np.square(X_scaled - X_pred), axis = 1) # Using mean squared error"
   ]
  },
  {
   "cell_type": "code",
   "execution_count": 10,
   "id": "fb0fdb40-05a8-4ffd-b56c-650eb3473e02",
   "metadata": {},
   "outputs": [
    {
     "data": {
      "image/png": "[encoded data removed]",
      "text/plain": [
       "<Figure size 800x600 with 1 Axes>"
      ]
     },
     "metadata": {},
     "output_type": "display_data"
    }
   ],
   "source": [
    "# Visualizing the reconstruction error distributions\n",
    "plt.figure(figsize = (8, 6))\n",
    "plt.hist(mse[y == \"benign\"], bins = 50, alpha = 0.6, label = \"benign\")\n",
    "plt.hist(mse[y == \"attack\"], bins = 50, alpha = 0.6, label = \"attack\")\n",
    "plt.xlabel(\"Reconstructor Error (MSE)\")\n",
    "plt.ylabel(\"Number of samples\")\n",
    "plt.title(\"MSE Distributions for Benign vs Attack\")\n",
    "plt.legend()\n",
    "plt.show()"
   ]
  },
  {
   "cell_type": "code",
   "execution_count": 11,
   "id": "7e95f7fb-0b33-4ada-9c46-14dad918c101",
   "metadata": {},
   "outputs": [
    {
     "name": "stdout",
     "output_type": "stream",
     "text": [
      "Reconstruction error threshold: 8.398215493839836e-05\n"
     ]
    }
   ],
   "source": [
    "THRESHOLD_PERCENTILE = 85\n",
    "\n",
    "# Choosing a minimum threshold to classify as attack\n",
    "threshold = np.percentile(mse[y == \"benign\"], THRESHOLD_PERCENTILE)\n",
    "print(\"Reconstruction error threshold:\", threshold)"
   ]
  },
  {
   "cell_type": "code",
   "execution_count": 12,
   "id": "8af7e7c7-c8cc-41ed-960f-9b190ec03f5e",
   "metadata": {},
   "outputs": [
    {
     "name": "stdout",
     "output_type": "stream",
     "text": [
      "Predicted\n",
      "attack    39244\n",
      "benign    15530\n",
      "Name: count, dtype: int64\n"
     ]
    }
   ],
   "source": [
    "# If MSE crosses the reconstruction error threshold, then the network is under attack\n",
    "y_pred = np.where(mse > threshold, \"attack\", \"benign\")\n",
    "\n",
    "# Print the number of predicted benign and attack labels\n",
    "results = pd.DataFrame({\"Actual\": y, \"Predicted\": y_pred})\n",
    "print(results[\"Predicted\"].value_counts())"
   ]
  },
  {
   "cell_type": "code",
   "execution_count": 15,
   "id": "cc237cfa-2687-46a9-9b7b-294562a176cb",
   "metadata": {},
   "outputs": [
    {
     "name": "stdout",
     "output_type": "stream",
     "text": [
      "Accuracy: 89.17187%\n",
      "Precision: 94.75589%\n",
      "Recall: 90.56723%\n",
      "F1 Score: 92.61422%\n"
     ]
    }
   ],
   "source": [
    "from sklearn.metrics import accuracy_score\n",
    "from sklearn.metrics import precision_score\n",
    "from sklearn.metrics import recall_score\n",
    "from sklearn.metrics import f1_score\n",
    "\n",
    "# Binary true labels: benign = 0, attack = 1\n",
    "y_bin = np.where(y == \"benign\", 0, 1)\n",
    "y_pred_bin = np.where(y_pred == \"attack\", 1, 0)\n",
    "\n",
    "print(\"Accuracy: {:.5f}%\".format(accuracy_score(y_bin, y_pred_bin) * 100))\n",
    "print(\"Precision: {:.5f}%\".format(precision_score(y_bin, y_pred_bin) * 100))\n",
    "print(\"Recall: {:.5f}%\".format(recall_score(y_bin, y_pred_bin) * 100))\n",
    "print(\"F1 Score: {:.5f}%\".format(f1_score(y_bin, y_pred_bin) * 100))"
   ]
  },
  {
   "cell_type": "code",
   "execution_count": 16,
   "id": "d5779dab-85bb-4230-af08-ce7efe9b4d7c",
   "metadata": {},
   "outputs": [
    {
     "data": {
      "image/png": "[encoded data removed]",
      "text/plain": [
       "<Figure size 2000x2000 with 2 Axes>"
      ]
     },
     "metadata": {},
     "output_type": "display_data"
    }
   ],
   "source": [
    "# Confusion matrix of the autoencoder\n",
    "cm = confusion_matrix(y, y_pred, labels = [\"benign\", \"attack\"])\n",
    "\n",
    "plt.figure(figsize = (20, 20))\n",
    "sns.heatmap(cm, annot = True, fmt = \"d\", cmap = \"Blues\", xticklabels = [\"benign\", \"attack\"], yticklabels = [\"benign\", \"attack\"])\n",
    "plt.ylabel(\"Actual Labels\")\n",
    "plt.xlabel(\"Predicted Labels\")\n",
    "plt.title(\"Confusion Matrix\")\n",
    "plt.show()"
   ]
  },
  {
   "cell_type": "code",
   "execution_count": 17,
   "id": "8d25a2f8-40f4-4d08-b01f-927f312916f1",
   "metadata": {},
   "outputs": [
    {
     "name": "stdout",
     "output_type": "stream",
     "text": [
      "              precision    recall  f1-score   support\n",
      "\n",
      "      attack       0.95      0.91      0.93     41059\n",
      "      benign       0.75      0.85      0.80     13715\n",
      "\n",
      "    accuracy                           0.89     54774\n",
      "   macro avg       0.85      0.88      0.86     54774\n",
      "weighted avg       0.90      0.89      0.89     54774\n",
      "\n"
     ]
    }
   ],
   "source": [
    "print(classification_report(y, y_pred))"
   ]
  },
  {
   "cell_type": "code",
   "execution_count": 18,
   "id": "26c94b61-e712-4651-b139-bf466f30b7aa",
   "metadata": {},
   "outputs": [
    {
     "data": {
      "image/png": "[encoded data removed]",
      "text/plain": [
       "<Figure size 800x600 with 1 Axes>"
      ]
     },
     "metadata": {},
     "output_type": "display_data"
    }
   ],
   "source": [
    "from sklearn.metrics import roc_curve, auc\n",
    "import matplotlib.pyplot as plt\n",
    "\n",
    "# Reconstruction errors are used as scores\n",
    "y_score = mse\n",
    "\n",
    "# Compute ROC\n",
    "fpr, tpr, thresholds = roc_curve(y_bin, y_score)\n",
    "roc_auc = auc(fpr, tpr)\n",
    "\n",
    "# Plot the ROC Curve\n",
    "plt.figure(figsize = (8, 6))\n",
    "plt.plot(fpr, tpr, label = f\"AUC = {roc_auc:.5f}\")\n",
    "plt.plot([0, 1], [0, 1], \"k--\", label = \"Random Classifier\")\n",
    "plt.xlabel(\"False Positive Rate\")\n",
    "plt.ylabel(\"True Positive Rate\")\n",
    "plt.title(\"ROC Curve for UAV Network Intrusion Detection\")\n",
    "plt.legend()\n",
    "plt.show()"
   ]
  },
  {
   "cell_type": "code",
   "execution_count": 19,
   "id": "10ac131e-ac29-4df5-aa21-f40f6be19dd4",
   "metadata": {},
   "outputs": [
    {
     "name": "stdout",
     "output_type": "stream",
     "text": [
      "Area under the ROC Curve: 0.89504\n"
     ]
    }
   ],
   "source": [
    "from sklearn.metrics import roc_auc_score\n",
    "print(\"Area under the ROC Curve: {:.5f}\".format(roc_auc_score(y_bin, y_score)))"
   ]
  }
 ],
 "metadata": {
  "kernelspec": {
   "display_name": "ML Lab Mini Project Kernel (.venv)",
   "language": "python",
   "name": ".venv"
  },
  "language_info": {
   "codemirror_mode": {
    "name": "ipython",
    "version": 3
   },
   "file_extension": ".py",
   "mimetype": "text/x-python",
   "name": "python",
   "nbconvert_exporter": "python",
   "pygments_lexer": "ipython3",
   "version": "3.11.9"
  }
 },
 "nbformat": 4,
 "nbformat_minor": 5
}
